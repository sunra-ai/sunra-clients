{
  "cells": [
    {
      "cell_type": "code",
      "execution_count": null,
      "metadata": {},
      "outputs": [],
      "source": [
        "# Getting Started with Sunra AI Python SDK\n",
        "\n",
        "Welcome to the Sunra AI Python SDK! This notebook will guide you through the installation, setup, and basic usage of the SDK.\n",
        "\n",
        "## What is Sunra AI?\n",
        "\n",
        "Sunra AI is a platform that provides access to various AI models for:\n",
        "- Text-to-Image generation\n",
        "- Image-to-Image transformation\n",
        "- Text-to-Video generation\n",
        "- Image-to-Video transformation\n",
        "- Speech-to-Text conversion\n",
        "- And more!\n",
        "\n",
        "## Prerequisites\n",
        "\n",
        "Before we start, you'll need:\n",
        "1. Python 3.7 or higher\n",
        "2. A Sunra AI account and API key\n",
        "3. Internet connection for API calls\n"
      ]
    },
    {
      "cell_type": "code",
      "execution_count": null,
      "metadata": {},
      "outputs": [],
      "source": [
        "## Step 1: Installation\n",
        "\n",
        "First, let's install the Sunra AI Python SDK. Run the cell below to install it using pip:\n"
      ]
    },
    {
      "cell_type": "code",
      "execution_count": null,
      "metadata": {},
      "outputs": [],
      "source": [
        "# Install the Sunra AI Python SDK\n",
        "!pip install sunra-client\n",
        "\n",
        "# Also install some helper libraries we'll use in the notebooks\n",
        "!pip install requests pillow matplotlib\n"
      ]
    },
    {
      "cell_type": "code",
      "execution_count": null,
      "metadata": {},
      "outputs": [],
      "source": [
        "## Step 2: Get Your API Key\n",
        "\n",
        "To use the Sunra AI SDK, you need an API key. Here's how to get one:\n",
        "\n",
        "1. **Sign up**: Go to [sunra.ai](https://sunra.ai) and create an account\n",
        "2. **Get your API key**: Visit the [dashboard](https://sunra.ai/dashboard/keys) to get your API key\n",
        "3. **Copy your key**: You'll need this for the next step\n",
        "\n",
        "### Important Security Note\n",
        "Never share your API key publicly or commit it to version control. We'll show you secure ways to use it below.\n"
      ]
    },
    {
      "cell_type": "code",
      "execution_count": null,
      "metadata": {},
      "outputs": [],
      "source": [
        "## Step 3: Configure Your API Key\n",
        "\n",
        "There are several ways to configure your API key with the Sunra SDK. We'll show you the most common methods:\n",
        "\n",
        "### Method 1: Environment Variables (Recommended)\n",
        "\n",
        "The most secure way is to set your API key as an environment variable. You can do this:\n",
        "\n",
        "**Option A: In your terminal/command prompt:**\n",
        "```bash\n",
        "export SUNRA_KEY=your-api-key-here\n",
        "```\n",
        "\n",
        "**Option B: In this notebook (temporary):**\n",
        "Run the cell below and enter your API key when prompted:\n"
      ]
    },
    {
      "cell_type": "code",
      "execution_count": null,
      "metadata": {},
      "outputs": [],
      "source": [
        "import os\n",
        "import getpass\n",
        "\n",
        "# Check if API key is already set\n",
        "if 'SUNRA_KEY' not in os.environ:\n",
        "    api_key = getpass.getpass(\"Enter your Sunra API key: \")\n",
        "    os.environ['SUNRA_KEY'] = api_key\n",
        "    print(\"✓ API key set successfully!\")\n",
        "else:\n",
        "    print(\"✓ API key already configured!\")\n",
        "    \n",
        "print(f\"API key (first 8 characters): {os.environ['SUNRA_KEY'][:8]}...\")\n"
      ]
    },
    {
      "cell_type": "code",
      "execution_count": null,
      "metadata": {},
      "outputs": [],
      "source": [
        "### Method 2: Global Configuration\n",
        "\n",
        "You can also set the API key globally using the `config()` function:\n"
      ]
    },
    {
      "cell_type": "code",
      "execution_count": null,
      "metadata": {},
      "outputs": [],
      "source": [
        "import sunra_client\n",
        "\n",
        "# Configure the API key globally\n",
        "# This will use the API key from the environment variable we set above\n",
        "api_key = os.environ.get('SUNRA_KEY')\n",
        "sunra_client.config(credentials=api_key)\n",
        "\n",
        "print(\"✓ Sunra client configured successfully!\")\n"
      ]
    },
    {
      "cell_type": "code",
      "execution_count": null,
      "metadata": {},
      "outputs": [],
      "source": [
        "## Step 4: Test Your Setup\n",
        "\n",
        "Let's test your setup with a simple API call. We'll generate a small image to verify everything is working:\n"
      ]
    },
    {
      "cell_type": "code",
      "execution_count": null,
      "metadata": {},
      "outputs": [],
      "source": [
        "import sunra_client\n",
        "\n",
        "print(\"Testing Sunra AI SDK setup...\")\n",
        "print(\"This may take a few moments...\")\n",
        "\n",
        "try:\n",
        "    # Make a simple text-to-image request\n",
        "    result = sunra_client.subscribe(\n",
        "        \"black-forest-labs/flux-kontext-pro/text-to-image\",\n",
        "        arguments={\n",
        "            \"prompt\": \"a simple test image of a happy robot\",\n",
        "            \"prompt_enhancer\": False,\n",
        "            \"seed\": 42,\n",
        "            \"aspect_ratio\": \"1:1\",\n",
        "            \"output_format\": \"jpeg\",\n",
        "            \"safety_tolerance\": 6\n",
        "        },\n",
        "        with_logs=True,\n",
        "        on_enqueue=lambda req_id: print(f\"✓ Request enqueued: {req_id}\"),\n",
        "        on_queue_update=lambda status: print(f\"Status: {status}\"),\n",
        "    )\n",
        "    \n",
        "    print(\"\\n🎉 Success! Your setup is working correctly.\")\n",
        "    print(f\"Generated {len(result.get('images', []))} image(s)\")\n",
        "    \n",
        "    if result.get('images'):\n",
        "        print(f\"Image URL: {result['images'][0]['url']}\")\n",
        "    \n",
        "except Exception as e:\n",
        "    print(f\"❌ Error: {e}\")\n",
        "    print(\"\\nTroubleshooting:\")\n",
        "    print(\"1. Check that your API key is correct\")\n",
        "    print(\"2. Ensure you have internet connection\")\n",
        "    print(\"3. Verify your account has sufficient credits\")\n"
      ]
    },
    {
      "cell_type": "code",
      "execution_count": null,
      "metadata": {},
      "outputs": [],
      "source": [
        "## Step 5: Display the Generated Image\n",
        "\n",
        "Let's display the image we just generated:\n"
      ]
    },
    {
      "cell_type": "code",
      "execution_count": null,
      "metadata": {},
      "outputs": [],
      "source": [
        "import requests\n",
        "from PIL import Image\n",
        "import matplotlib.pyplot as plt\n",
        "from io import BytesIO\n",
        "\n",
        "# Display the generated image\n",
        "if 'result' in locals() and result.get('images'):\n",
        "    try:\n",
        "        # Download the image\n",
        "        image_url = result['images'][0]['url']\n",
        "        response = requests.get(image_url)\n",
        "        img = Image.open(BytesIO(response.content))\n",
        "        \n",
        "        # Display the image\n",
        "        plt.figure(figsize=(8, 8))\n",
        "        plt.imshow(img)\n",
        "        plt.axis('off')\n",
        "        plt.title('Generated Test Image: \"a simple test image of a happy robot\"')\n",
        "        plt.show()\n",
        "        \n",
        "        print(f\"Image size: {img.size}\")\n",
        "        print(f\"Image format: {img.format}\")\n",
        "        \n",
        "    except Exception as e:\n",
        "        print(f\"Error displaying image: {e}\")\n",
        "        print(f\"You can view the image directly at: {image_url}\")\n",
        "else:\n",
        "    print(\"No image to display. Please run the test above first.\")\n"
      ]
    },
    {
      "cell_type": "code",
      "execution_count": null,
      "metadata": {},
      "outputs": [],
      "source": [
        "## Understanding the SDK\n",
        "\n",
        "The Sunra AI SDK provides several key functions:\n",
        "\n",
        "### Main Functions:\n",
        "- `sunra_client.subscribe()` - For real-time requests with status updates\n",
        "- `sunra_client.submit()` - For simple, blocking requests\n",
        "- `sunra_client.status()` - For checking the status of a request\n",
        "- `sunra_client.result()` - For getting the result of a request\n",
        "- `sunra_client.cancel()` - For canceling a request\n",
        "- `sunra_client.stream()` - For streaming the result of a request\n",
        "- `sunra_client.upload()` - For uploading a file to the CDN\n",
        "- `sunra_client.upload_image()` - For uploading an image to the CDN\n",
        "- `sunra_client.upload_file()` - For uploading a file to the CDN\n",
        "- `sunra_client.config()` - For global configuration\n",
        "\n",
        "### Key Parameters:\n",
        "- **endpoint** - The AI model endpoint (e.g., \"black-forest-labs/flux-kontext-pro/text-to-image\")\n",
        "- **arguments** - Model-specific parameters\n",
        "- **with_logs** - Whether to receive detailed logs\n",
        "- **on_enqueue** - Callback when request is queued\n",
        "- **on_queue_update** - Callback for status updates\n"
      ]
    },
    {
      "cell_type": "code",
      "execution_count": null,
      "metadata": {},
      "outputs": [],
      "source": [
        "## Next Steps\n",
        "\n",
        "Congratulations! You've successfully set up the Sunra AI SDK. Here's what you can explore next:\n",
        "\n",
        "1. **02-text-to-image.ipynb** - Dive deeper into text-to-image generation\n",
        "2. **03-image-to-image-and-video.ipynb** - Work with images and videos\n",
        "3. **04-speech-to-text.ipynb** - Convert audio to text\n",
        "4. **05-advanced-configuration.ipynb** - Advanced configuration options\n",
        "\n",
        "## Troubleshooting\n",
        "\n",
        "If you encounter issues:\n",
        "\n",
        "1. **API Key Issues**: Double-check your API key is correct and has sufficient credits\n",
        "2. **Network Issues**: Ensure you have a stable internet connection\n",
        "3. **Installation Issues**: Try reinstalling with `pip install --upgrade sunra-client`\n",
        "4. **Import Errors**: Restart your Jupyter kernel and try again\n",
        "\n",
        "## Resources\n",
        "\n",
        "- [Sunra AI Website](https://sunra.ai)\n",
        "- [API Documentation](https://docs.sunra.ai/)\n",
        "- [Dashboard](https://sunra.ai/dashboard)\n",
        "- [Get API Keys](https://sunra.ai/dashboard/api-tokens)\n"
      ]
    }
  ],
  "metadata": {
    "kernelspec": {
      "display_name": ".venv",
      "language": "python",
      "name": "python3"
    },
    "language_info": {
      "codemirror_mode": {
        "name": "ipython",
        "version": 3
      },
      "file_extension": ".py",
      "mimetype": "text/x-python",
      "name": "python",
      "nbconvert_exporter": "python",
      "pygments_lexer": "ipython3",
      "version": "3.12.2"
    }
  },
  "nbformat": 4,
  "nbformat_minor": 2
}
