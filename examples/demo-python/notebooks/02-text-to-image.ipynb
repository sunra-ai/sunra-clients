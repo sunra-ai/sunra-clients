{
 "cells": [
  {
   "cell_type": "code",
   "execution_count": null,
   "metadata": {
    "vscode": {
     "languageId": "plaintext"
    }
   },
   "outputs": [],
   "source": [
    "# Text-to-Image Generation with Sunra AI\n",
    "\n",
    "This notebook explores text-to-image generation in depth, covering various parameters, techniques, and best practices.\n",
    "\n",
    "## What You'll Learn\n",
    "\n",
    "- How to craft effective prompts\n",
    "- Understanding model parameters\n",
    "- Controlling image generation with seeds\n",
    "- Different aspect ratios and formats\n",
    "- Prompt enhancement techniques\n",
    "- Batch generation and comparison\n"
   ]
  },
  {
   "cell_type": "code",
   "execution_count": null,
   "metadata": {
    "vscode": {
     "languageId": "plaintext"
    }
   },
   "outputs": [],
   "source": [
    "## Setup\n",
    "\n",
    "First, let's set up our environment and ensure we have the necessary libraries:\n"
   ]
  },
  {
   "cell_type": "code",
   "execution_count": null,
   "metadata": {},
   "outputs": [],
   "source": [
    "import os\n",
    "import sunra_client\n",
    "import requests\n",
    "from PIL import Image\n",
    "import matplotlib.pyplot as plt\n",
    "from io import BytesIO\n",
    "import time\n",
    "import getpass\n",
    "\n",
    "# Set up API key if not already configured\n",
    "if 'SUNRA_KEY' not in os.environ:\n",
    "    api_key = getpass.getpass(\"Enter your Sunra API key: \")\n",
    "    os.environ['SUNRA_KEY'] = api_key\n",
    "\n",
    "# Configure the client\n",
    "sunra_client.config(credentials=os.environ['SUNRA_KEY'])\n",
    "print(\"✓ Sunra client configured successfully!\")\n"
   ]
  },
  {
   "cell_type": "code",
   "execution_count": null,
   "metadata": {},
   "outputs": [],
   "source": [
    "## Helper Functions\n",
    "\n",
    "Let's create some helper functions to make our image generation and display easier:\n"
   ]
  },
  {
   "cell_type": "code",
   "execution_count": null,
   "metadata": {},
   "outputs": [],
   "source": [
    "def display_image(image_url, title=\"Generated Image\", size=(10, 10)):\n",
    "    \"\"\"Download and display an image from a URL\"\"\"\n",
    "    try:\n",
    "        response = requests.get(image_url)\n",
    "        img = Image.open(BytesIO(response.content))\n",
    "        \n",
    "        plt.figure(figsize=size)\n",
    "        plt.imshow(img)\n",
    "        plt.axis('off')\n",
    "        plt.title(title)\n",
    "        plt.show()\n",
    "        \n",
    "        print(f\"Image size: {img.size}\")\n",
    "        print(f\"Image format: {img.format}\")\n",
    "        return img\n",
    "        \n",
    "    except Exception as e:\n",
    "        print(f\"Error displaying image: {e}\")\n",
    "        print(f\"You can view the image directly at: {image_url}\")\n",
    "        return None\n",
    "\n",
    "def generate_image(prompt, seed=None, aspect_ratio=\"1:1\", output_format=\"jpeg\", \n",
    "                   prompt_enhancer=False, safety_tolerance=6, show_image=True):\n",
    "    \"\"\"Generate an image with the given parameters\"\"\"\n",
    "    \n",
    "    print(f\"Generating image with prompt: '{prompt}'\")\n",
    "    print(\"Please wait...\")\n",
    "    \n",
    "    arguments = {\n",
    "        \"prompt\": prompt,\n",
    "        \"prompt_enhancer\": prompt_enhancer,\n",
    "        \"aspect_ratio\": aspect_ratio,\n",
    "        \"output_format\": output_format,\n",
    "        \"safety_tolerance\": safety_tolerance\n",
    "    }\n",
    "    \n",
    "    if seed is not None:\n",
    "        arguments[\"seed\"] = seed\n",
    "    \n",
    "    try:\n",
    "        result = sunra_client.subscribe(\n",
    "            \"black-forest-labs/flux-kontext-pro/text-to-image\",\n",
    "            arguments=arguments,\n",
    "            with_logs=True,\n",
    "            on_enqueue=lambda req_id: print(f\"✓ Request enqueued: {req_id}\"),\n",
    "            on_queue_update=lambda status: print(f\"Status: {status}\"),\n",
    "        )\n",
    "\n",
    "        if result.get('images'):\n",
    "            image_url = result['images'][0]['url']\n",
    "            print(f\"✓ Image generated successfully!\")\n",
    "            print(f\"Image URL: {image_url}\")\n",
    "            \n",
    "            if show_image:\n",
    "                display_image(image_url, f\"Prompt: {prompt}\")\n",
    "            \n",
    "            return result\n",
    "        else:\n",
    "            print(\"No image generated\")\n",
    "            return None\n",
    "            \n",
    "    except Exception as e:\n",
    "        print(f\"❌ Error generating image: {e}\")\n",
    "        return None\n",
    "\n",
    "print(\"Helper functions ready!\")\n"
   ]
  },
  {
   "cell_type": "raw",
   "metadata": {
    "vscode": {
     "languageId": "raw"
    }
   },
   "source": [
    "## Basic Text-to-Image Generation\n",
    "\n",
    "Let's start with a simple example:\n"
   ]
  },
  {
   "cell_type": "code",
   "execution_count": null,
   "metadata": {},
   "outputs": [],
   "source": [
    "# Simple image generation\n",
    "result = generate_image(\"a cozy coffee shop with warm lighting and vintage decor\")\n"
   ]
  },
  {
   "cell_type": "raw",
   "metadata": {
    "vscode": {
     "languageId": "raw"
    }
   },
   "source": [
    "## Understanding Seeds\n",
    "\n",
    "Seeds control the randomness in image generation. The same prompt with the same seed will always generate the same image. Let's see this in action:\n"
   ]
  },
  {
   "cell_type": "code",
   "execution_count": null,
   "metadata": {},
   "outputs": [],
   "source": [
    "# Generate the same image twice with the same seed\n",
    "prompt = \"a majestic mountain landscape at sunset\"\n",
    "seed = 42\n",
    "\n",
    "print(\"=== First generation with seed 42 ===\")\n",
    "result1 = generate_image(prompt, seed=seed)\n",
    "\n",
    "print(\"\\n=== Second generation with the same seed 42 ===\")\n",
    "result2 = generate_image(prompt, seed=seed)\n",
    "\n",
    "print(\"\\n=== Third generation with a different seed ===\")\n",
    "result3 = generate_image(prompt, seed=123)\n"
   ]
  },
  {
   "cell_type": "raw",
   "metadata": {
    "vscode": {
     "languageId": "raw"
    }
   },
   "source": [
    "## Aspect Ratios and Formats\n",
    "\n",
    "The Sunra AI API supports various aspect ratios and output formats. Let's explore them:\n"
   ]
  },
  {
   "cell_type": "code",
   "execution_count": null,
   "metadata": {},
   "outputs": [],
   "source": [
    "# Different aspect ratios\n",
    "prompt = \"a beautiful garden with flowers and butterflies\"\n",
    "seed = 100\n",
    "\n",
    "aspect_ratios = [\"1:1\", \"16:9\", \"9:16\", \"4:3\", \"3:4\"]\n",
    "\n",
    "for ratio in aspect_ratios:\n",
    "    print(f\"\\n=== Aspect Ratio: {ratio} ===\")\n",
    "    result = generate_image(prompt, seed=seed, aspect_ratio=ratio, show_image=False)\n",
    "    \n",
    "    if result and result.get('images'):\n",
    "        image_url = result['images'][0]['url']\n",
    "        display_image(image_url, f\"Aspect Ratio: {ratio}\", size=(8, 6))\n"
   ]
  },
  {
   "cell_type": "raw",
   "metadata": {
    "vscode": {
     "languageId": "raw"
    }
   },
   "source": [
    "## Prompt Enhancement\n",
    "\n",
    "The API can automatically enhance your prompts to generate better images. Let's compare:\n"
   ]
  },
  {
   "cell_type": "code",
   "execution_count": null,
   "metadata": {},
   "outputs": [],
   "source": [
    "# Compare with and without prompt enhancement\n",
    "simple_prompt = \"cat\"\n",
    "seed = 200\n",
    "\n",
    "print(\"=== Without Prompt Enhancement ===\")\n",
    "result1 = generate_image(simple_prompt, seed=seed, prompt_enhancer=False)\n",
    "\n",
    "print(\"\\n=== With Prompt Enhancement ===\")\n",
    "result2 = generate_image(simple_prompt, seed=seed, prompt_enhancer=True)\n"
   ]
  },
  {
   "cell_type": "raw",
   "metadata": {
    "vscode": {
     "languageId": "raw"
    }
   },
   "source": [
    "## Prompt Engineering Tips\n",
    "\n",
    "Here are some tips for writing effective prompts:\n"
   ]
  },
  {
   "cell_type": "code",
   "execution_count": null,
   "metadata": {},
   "outputs": [],
   "source": [
    "# Examples of different prompt styles\n",
    "prompts = [\n",
    "    \"dog\",  # Simple\n",
    "    \"a golden retriever sitting in a park\",  # Descriptive\n",
    "    \"a golden retriever sitting in a park, soft lighting, professional photography, 4K\",  # Detailed\n",
    "    \"a golden retriever sitting in a park, soft lighting, professional photography, 4K, realistic, highly detailed\",  # Very detailed\n",
    "]\n",
    "\n",
    "seed = 300\n",
    "\n",
    "for i, prompt in enumerate(prompts, 1):\n",
    "    print(f\"\\n=== Prompt {i}: {prompt} ===\")\n",
    "    result = generate_image(prompt, seed=seed, show_image=False)\n",
    "    \n",
    "    if result and result.get('images'):\n",
    "        image_url = result['images'][0]['url']\n",
    "        display_image(image_url, f\"Prompt {i}: {prompt}\", size=(8, 6))\n"
   ]
  },
  {
   "cell_type": "raw",
   "metadata": {
    "vscode": {
     "languageId": "raw"
    }
   },
   "source": [
    "## Batch Generation\n",
    "\n",
    "Let's create a function to generate multiple variations of the same prompt:\n"
   ]
  },
  {
   "cell_type": "code",
   "execution_count": null,
   "metadata": {},
   "outputs": [],
   "source": [
    "def generate_variations(prompt, num_variations=3, base_seed=None):\n",
    "    \"\"\"Generate multiple variations of the same prompt\"\"\"\n",
    "    \n",
    "    if base_seed is None:\n",
    "        base_seed = int(time.time()) % 1000  # Use current time as base seed\n",
    "    \n",
    "    print(f\"Generating {num_variations} variations of: '{prompt}'\")\n",
    "    print(f\"Base seed: {base_seed}\")\n",
    "    \n",
    "    results = []\n",
    "    \n",
    "    for i in range(num_variations):\n",
    "        seed = base_seed + i\n",
    "        print(f\"\\n--- Variation {i+1} (seed: {seed}) ---\")\n",
    "        \n",
    "        result = generate_image(prompt, seed=seed, show_image=False)\n",
    "        \n",
    "        if result and result.get('images'):\n",
    "            image_url = result['images'][0]['url']\n",
    "            display_image(image_url, f\"Variation {i+1} - Seed: {seed}\", size=(6, 6))\n",
    "            results.append(result)\n",
    "    \n",
    "    return results\n",
    "\n",
    "# Generate variations\n",
    "variations = generate_variations(\"a futuristic city skyline at night\", num_variations=3)\n"
   ]
  },
  {
   "cell_type": "raw",
   "metadata": {
    "vscode": {
     "languageId": "raw"
    }
   },
   "source": [
    "## Advanced Parameters\n",
    "\n",
    "Let's explore some advanced parameters:\n"
   ]
  },
  {
   "cell_type": "code",
   "execution_count": null,
   "metadata": {},
   "outputs": [],
   "source": [
    "# Advanced generation with different safety tolerance levels\n",
    "prompt = \"a beautiful sunset over mountains\"\n",
    "seed = 500\n",
    "\n",
    "# Safety tolerance affects how strict the content filtering is\n",
    "# Lower values = more strict, Higher values = more permissive\n",
    "safety_levels = [3, 6, 9]\n",
    "\n",
    "for level in safety_levels:\n",
    "    print(f\"\\n=== Safety Tolerance: {level} ===\")\n",
    "    result = generate_image(\n",
    "        prompt, \n",
    "        seed=seed, \n",
    "        safety_tolerance=level, \n",
    "        show_image=False\n",
    "    )\n",
    "    \n",
    "    if result and result.get('images'):\n",
    "        image_url = result['images'][0]['url']\n",
    "        display_image(image_url, f\"Safety Tolerance: {level}\", size=(8, 6))\n"
   ]
  },
  {
   "cell_type": "raw",
   "metadata": {
    "vscode": {
     "languageId": "raw"
    }
   },
   "source": [
    "## Creative Prompt Examples\n",
    "\n",
    "Let's try some creative and artistic prompts:\n"
   ]
  },
  {
   "cell_type": "code",
   "execution_count": null,
   "metadata": {},
   "outputs": [],
   "source": [
    "# Creative and artistic prompts\n",
    "creative_prompts = [\n",
    "    \"a steampunk octopus playing piano in an underwater jazz club\",\n",
    "    \"a minimalist zen garden with floating geometric shapes\",\n",
    "    \"a cyberpunk samurai meditating in a neon-lit temple\",\n",
    "    \"a surreal melting clock forest in the style of Salvador Dali\",\n",
    "    \"a cozy witch's cottage made of books and teacups\"\n",
    "]\n",
    "\n",
    "for i, prompt in enumerate(creative_prompts, 1):\n",
    "    print(f\"\\n=== Creative Example {i} ===\")\n",
    "    result = generate_image(prompt, seed=600+i, show_image=False)\n",
    "    \n",
    "    if result and result.get('images'):\n",
    "        image_url = result['images'][0]['url']\n",
    "        display_image(image_url, f\"Creative #{i}\", size=(8, 8))\n"
   ]
  },
  {
   "cell_type": "raw",
   "metadata": {
    "vscode": {
     "languageId": "raw"
    }
   },
   "source": [
    "## Summary and Best Practices\n",
    "\n",
    "### Key Takeaways:\n",
    "\n",
    "1. **Seeds**: Use seeds for reproducible results\n",
    "2. **Aspect Ratios**: Choose appropriate ratios for your use case\n",
    "3. **Prompt Enhancement**: Can improve results for simple prompts\n",
    "4. **Detailed Prompts**: More descriptive prompts often yield better results\n",
    "5. **Safety Tolerance**: Adjust based on your content needs\n",
    "\n",
    "### Best Practices:\n",
    "\n",
    "- **Be Specific**: Include details about style, lighting, mood, etc.\n",
    "- **Use Descriptive Language**: Words like \"professional\", \"highly detailed\", \"4K\" can improve quality\n",
    "- **Experiment with Seeds**: Try different seeds to find the best result\n",
    "- **Consider Aspect Ratio**: Match the ratio to your intended use\n",
    "- **Test Different Approaches**: Simple vs. detailed prompts, with/without enhancement\n",
    "\n",
    "### Common Parameters:\n",
    "\n",
    "- `prompt`: Your text description\n",
    "- `seed`: For reproducible results (integer)\n",
    "- `aspect_ratio`: \"1:1\", \"16:9\", \"9:16\", \"4:3\", \"3:4\"\n",
    "- `output_format`: \"jpeg\", \"png\", \"webp\"\n",
    "- `prompt_enhancer`: Boolean to improve prompts\n",
    "- `safety_tolerance`: 1-10, higher is more permissive\n",
    "\n",
    "## Next Steps\n",
    "\n",
    "Continue to the next notebook: **03-image-to-image-and-video.ipynb** to learn about working with input images and generating videos!\n"
   ]
  }
 ],
 "metadata": {
  "kernelspec": {
   "display_name": ".venv",
   "language": "python",
   "name": "python3"
  },
  "language_info": {
   "codemirror_mode": {
    "name": "ipython",
    "version": 3
   },
   "file_extension": ".py",
   "mimetype": "text/x-python",
   "name": "python",
   "nbconvert_exporter": "python",
   "pygments_lexer": "ipython3",
   "version": "3.12.2"
  }
 },
 "nbformat": 4,
 "nbformat_minor": 2
}
